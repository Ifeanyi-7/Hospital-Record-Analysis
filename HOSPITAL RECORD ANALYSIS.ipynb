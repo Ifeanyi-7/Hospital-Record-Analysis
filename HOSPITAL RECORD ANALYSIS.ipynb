{
 "cells": [
  {
   "cell_type": "code",
   "execution_count": 1,
   "id": "9fd28b6c",
   "metadata": {},
   "outputs": [],
   "source": [
    "import pandas as pd\n",
    "import numpy as np\n",
    "import matplotlib.pyplot as plt\n",
    "import seaborn as sns\n",
    "from sklearn.model_selection import train_test_split\n",
    "from sklearn.ensemble import RandomForestClassifier\n",
    "from sklearn.metrics import accuracy_score, classification_report\n"
   ]
  },
  {
   "cell_type": "code",
   "execution_count": 3,
   "id": "cc1963df",
   "metadata": {},
   "outputs": [],
   "source": [
    "##Simulated hospital dataset"
   ]
  },
  {
   "cell_type": "code",
   "execution_count": 4,
   "id": "46a5f071",
   "metadata": {},
   "outputs": [],
   "source": [
    "data = {\n",
    "    'Patient_ID': range(1, 101),\n",
    "    'Age': np.random.randint(18, 90, 100),\n",
    "    'Gender': np.random.choice(['Male', 'Female'], 100),\n",
    "    'Blood_Pressure': np.random.randint(90, 180, 100),\n",
    "    'Heart_Rate': np.random.randint(60, 120, 100),\n",
    "    'Diagnosis': np.random.choice(['Hypertension', 'Diabetes', 'Cardiac Arrest', 'Healthy'], 100),\n",
    "    'Treatment': np.random.choice(['Medication', 'Surgery', 'Therapy', 'None'], 100),\n",
    "    'Hospital_Stay_Days': np.random.randint(1, 30, 100),\n",
    "    'Outcome': np.random.choice(['Recovered', 'Not Recovered'], 100)\n",
    "}\n",
    "\n",
    "\n",
    "\n"
   ]
  },
  {
   "cell_type": "code",
   "execution_count": 5,
   "id": "48dcb804",
   "metadata": {},
   "outputs": [],
   "source": [
    "df = pd.DataFrame(data)"
   ]
  },
  {
   "cell_type": "code",
   "execution_count": 6,
   "id": "d1399b5f",
   "metadata": {},
   "outputs": [
    {
     "name": "stdout",
     "output_type": "stream",
     "text": [
      "    Patient_ID  Age  Gender  Blood_Pressure  Heart_Rate     Diagnosis  \\\n",
      "0            1   79    Male             158          79       Healthy   \n",
      "1            2   20  Female             138          63       Healthy   \n",
      "2            3   52  Female             128         100  Hypertension   \n",
      "3            4   63    Male             135          87       Healthy   \n",
      "4            5   42    Male              91          62       Healthy   \n",
      "..         ...  ...     ...             ...         ...           ...   \n",
      "95          96   25  Female             102          60       Healthy   \n",
      "96          97   56    Male             166          75      Diabetes   \n",
      "97          98   51    Male             102          70  Hypertension   \n",
      "98          99   21  Female             170          85       Healthy   \n",
      "99         100   40  Female             176          96  Hypertension   \n",
      "\n",
      "     Treatment  Hospital_Stay_Days        Outcome  \n",
      "0      Therapy                   4      Recovered  \n",
      "1   Medication                  21  Not Recovered  \n",
      "2   Medication                   3  Not Recovered  \n",
      "3   Medication                  26  Not Recovered  \n",
      "4   Medication                  14  Not Recovered  \n",
      "..         ...                 ...            ...  \n",
      "95     Therapy                  28  Not Recovered  \n",
      "96     Therapy                  24  Not Recovered  \n",
      "97     Surgery                   6  Not Recovered  \n",
      "98     Therapy                   1  Not Recovered  \n",
      "99     Surgery                  29      Recovered  \n",
      "\n",
      "[100 rows x 9 columns]\n"
     ]
    }
   ],
   "source": [
    "print(df)"
   ]
  },
  {
   "cell_type": "code",
   "execution_count": 7,
   "id": "bf8ce2b4",
   "metadata": {},
   "outputs": [],
   "source": [
    "# Data Cleaning"
   ]
  },
  {
   "cell_type": "code",
   "execution_count": 8,
   "id": "59288b23",
   "metadata": {},
   "outputs": [],
   "source": [
    "df.drop_duplicates(inplace=True)  # Removing duplicates"
   ]
  },
  {
   "cell_type": "code",
   "execution_count": 9,
   "id": "7ddcdf77",
   "metadata": {},
   "outputs": [],
   "source": [
    "def clean_age(age):\n",
    "    return np.nan if age < 0 else age\n"
   ]
  },
  {
   "cell_type": "code",
   "execution_count": 10,
   "id": "259451cc",
   "metadata": {},
   "outputs": [],
   "source": [
    "df['Age'] = df['Age'].apply(clean_age)\n",
    "df.dropna(inplace=True)\n"
   ]
  },
  {
   "cell_type": "code",
   "execution_count": 11,
   "id": "52b76efa",
   "metadata": {},
   "outputs": [
    {
     "name": "stdout",
     "output_type": "stream",
     "text": [
      "    Patient_ID  Age  Gender  Blood_Pressure  Heart_Rate     Diagnosis  \\\n",
      "0            1   79    Male             158          79       Healthy   \n",
      "1            2   20  Female             138          63       Healthy   \n",
      "2            3   52  Female             128         100  Hypertension   \n",
      "3            4   63    Male             135          87       Healthy   \n",
      "4            5   42    Male              91          62       Healthy   \n",
      "..         ...  ...     ...             ...         ...           ...   \n",
      "95          96   25  Female             102          60       Healthy   \n",
      "96          97   56    Male             166          75      Diabetes   \n",
      "97          98   51    Male             102          70  Hypertension   \n",
      "98          99   21  Female             170          85       Healthy   \n",
      "99         100   40  Female             176          96  Hypertension   \n",
      "\n",
      "     Treatment  Hospital_Stay_Days        Outcome  \n",
      "0      Therapy                   4      Recovered  \n",
      "1   Medication                  21  Not Recovered  \n",
      "2   Medication                   3  Not Recovered  \n",
      "3   Medication                  26  Not Recovered  \n",
      "4   Medication                  14  Not Recovered  \n",
      "..         ...                 ...            ...  \n",
      "95     Therapy                  28  Not Recovered  \n",
      "96     Therapy                  24  Not Recovered  \n",
      "97     Surgery                   6  Not Recovered  \n",
      "98     Therapy                   1  Not Recovered  \n",
      "99     Surgery                  29      Recovered  \n",
      "\n",
      "[100 rows x 9 columns]\n"
     ]
    }
   ],
   "source": [
    "print(df)"
   ]
  },
  {
   "cell_type": "code",
   "execution_count": 12,
   "id": "39935258",
   "metadata": {},
   "outputs": [],
   "source": [
    "# EDA & Visualization"
   ]
  },
  {
   "cell_type": "code",
   "execution_count": 13,
   "id": "3cc20958",
   "metadata": {},
   "outputs": [
    {
     "data": {
      "image/png": "[encoded data removed]",
      "text/plain": [
       "<Figure size 1000x500 with 1 Axes>"
      ]
     },
     "metadata": {},
     "output_type": "display_data"
    }
   ],
   "source": [
    "plt.figure(figsize=(10, 5))\n",
    "sns.countplot(x='Diagnosis', data=df, palette='coolwarm')\n",
    "plt.title('Distribution of Diagnoses')\n",
    "plt.xticks(rotation=45)\n",
    "plt.show()\n"
   ]
  },
  {
   "cell_type": "code",
   "execution_count": 14,
   "id": "08bc7808",
   "metadata": {},
   "outputs": [],
   "source": [
    "# Machine Learning: Predicting Recovery"
   ]
  },
  {
   "cell_type": "code",
   "execution_count": 15,
   "id": "fae1c9c7",
   "metadata": {},
   "outputs": [],
   "source": [
    "X = df[['Age', 'Blood_Pressure', 'Heart_Rate', 'Hospital_Stay_Days']]"
   ]
  },
  {
   "cell_type": "code",
   "execution_count": 16,
   "id": "e5dd5df6",
   "metadata": {},
   "outputs": [],
   "source": [
    "y = df['Outcome'].map({'Recovered': 1, 'Not Recovered': 0})"
   ]
  },
  {
   "cell_type": "code",
   "execution_count": 17,
   "id": "75c3657e",
   "metadata": {},
   "outputs": [],
   "source": [
    "X_train, X_test, y_train, y_test = train_test_split(X, y, test_size=0.2, random_state=42)"
   ]
  },
  {
   "cell_type": "code",
   "execution_count": 18,
   "id": "d870585c",
   "metadata": {},
   "outputs": [
    {
     "data": {
      "text/html": [
       "<style>#sk-container-id-1 {color: black;}#sk-container-id-1 pre{padding: 0;}#sk-container-id-1 div.sk-toggleable {background-color: white;}#sk-container-id-1 label.sk-toggleable__label {cursor: pointer;display: block;width: 100%;margin-bottom: 0;padding: 0.3em;box-sizing: border-box;text-align: center;}#sk-container-id-1 label.sk-toggleable__label-arrow:before {content: \"▸\";float: left;margin-right: 0.25em;color: #696969;}#sk-container-id-1 label.sk-toggleable__label-arrow:hover:before {color: black;}#sk-container-id-1 div.sk-estimator:hover label.sk-toggleable__label-arrow:before {color: black;}#sk-container-id-1 div.sk-toggleable__content {max-height: 0;max-width: 0;overflow: hidden;text-align: left;background-color: #f0f8ff;}#sk-container-id-1 div.sk-toggleable__content pre {margin: 0.2em;color: black;border-radius: 0.25em;background-color: #f0f8ff;}#sk-container-id-1 input.sk-toggleable__control:checked~div.sk-toggleable__content {max-height: 200px;max-width: 100%;overflow: auto;}#sk-container-id-1 input.sk-toggleable__control:checked~label.sk-toggleable__label-arrow:before {content: \"▾\";}#sk-container-id-1 div.sk-estimator input.sk-toggleable__control:checked~label.sk-toggleable__label {background-color: #d4ebff;}#sk-container-id-1 div.sk-label input.sk-toggleable__control:checked~label.sk-toggleable__label {background-color: #d4ebff;}#sk-container-id-1 input.sk-hidden--visually {border: 0;clip: rect(1px 1px 1px 1px);clip: rect(1px, 1px, 1px, 1px);height: 1px;margin: -1px;overflow: hidden;padding: 0;position: absolute;width: 1px;}#sk-container-id-1 div.sk-estimator {font-family: monospace;background-color: #f0f8ff;border: 1px dotted black;border-radius: 0.25em;box-sizing: border-box;margin-bottom: 0.5em;}#sk-container-id-1 div.sk-estimator:hover {background-color: #d4ebff;}#sk-container-id-1 div.sk-parallel-item::after {content: \"\";width: 100%;border-bottom: 1px solid gray;flex-grow: 1;}#sk-container-id-1 div.sk-label:hover label.sk-toggleable__label {background-color: #d4ebff;}#sk-container-id-1 div.sk-serial::before {content: \"\";position: absolute;border-left: 1px solid gray;box-sizing: border-box;top: 0;bottom: 0;left: 50%;z-index: 0;}#sk-container-id-1 div.sk-serial {display: flex;flex-direction: column;align-items: center;background-color: white;padding-right: 0.2em;padding-left: 0.2em;position: relative;}#sk-container-id-1 div.sk-item {position: relative;z-index: 1;}#sk-container-id-1 div.sk-parallel {display: flex;align-items: stretch;justify-content: center;background-color: white;position: relative;}#sk-container-id-1 div.sk-item::before, #sk-container-id-1 div.sk-parallel-item::before {content: \"\";position: absolute;border-left: 1px solid gray;box-sizing: border-box;top: 0;bottom: 0;left: 50%;z-index: -1;}#sk-container-id-1 div.sk-parallel-item {display: flex;flex-direction: column;z-index: 1;position: relative;background-color: white;}#sk-container-id-1 div.sk-parallel-item:first-child::after {align-self: flex-end;width: 50%;}#sk-container-id-1 div.sk-parallel-item:last-child::after {align-self: flex-start;width: 50%;}#sk-container-id-1 div.sk-parallel-item:only-child::after {width: 0;}#sk-container-id-1 div.sk-dashed-wrapped {border: 1px dashed gray;margin: 0 0.4em 0.5em 0.4em;box-sizing: border-box;padding-bottom: 0.4em;background-color: white;}#sk-container-id-1 div.sk-label label {font-family: monospace;font-weight: bold;display: inline-block;line-height: 1.2em;}#sk-container-id-1 div.sk-label-container {text-align: center;}#sk-container-id-1 div.sk-container {/* jupyter's `normalize.less` sets `[hidden] { display: none; }` but bootstrap.min.css set `[hidden] { display: none !important; }` so we also need the `!important` here to be able to override the default hidden behavior on the sphinx rendered scikit-learn.org. See: https://github.com/scikit-learn/scikit-learn/issues/21755 */display: inline-block !important;position: relative;}#sk-container-id-1 div.sk-text-repr-fallback {display: none;}</style><div id=\"sk-container-id-1\" class=\"sk-top-container\"><div class=\"sk-text-repr-fallback\"><pre>RandomForestClassifier(random_state=42)</pre><b>In a Jupyter environment, please rerun this cell to show the HTML representation or trust the notebook. <br />On GitHub, the HTML representation is unable to render, please try loading this page with nbviewer.org.</b></div><div class=\"sk-container\" hidden><div class=\"sk-item\"><div class=\"sk-estimator sk-toggleable\"><input class=\"sk-toggleable__control sk-hidden--visually\" id=\"sk-estimator-id-1\" type=\"checkbox\" checked><label for=\"sk-estimator-id-1\" class=\"sk-toggleable__label sk-toggleable__label-arrow\">RandomForestClassifier</label><div class=\"sk-toggleable__content\"><pre>RandomForestClassifier(random_state=42)</pre></div></div></div></div></div>"
      ],
      "text/plain": [
       "RandomForestClassifier(random_state=42)"
      ]
     },
     "execution_count": 18,
     "metadata": {},
     "output_type": "execute_result"
    }
   ],
   "source": [
    "model = RandomForestClassifier(n_estimators=100, random_state=42)\n",
    "model.fit(X_train, y_train)\n"
   ]
  },
  {
   "cell_type": "code",
   "execution_count": 19,
   "id": "d3a1292d",
   "metadata": {},
   "outputs": [],
   "source": [
    "y_pred = model.predict(X_test)\n",
    "\n"
   ]
  },
  {
   "cell_type": "code",
   "execution_count": 20,
   "id": "64518c04",
   "metadata": {},
   "outputs": [
    {
     "name": "stdout",
     "output_type": "stream",
     "text": [
      "[0 0 1 0 0 0 0 0 0 0 0 0 0 0 1 0 0 1 0 0]\n"
     ]
    }
   ],
   "source": [
    "print(y_pred)"
   ]
  },
  {
   "cell_type": "code",
   "execution_count": null,
   "id": "7f271cda",
   "metadata": {},
   "outputs": [],
   "source": []
  }
 ],
 "metadata": {
  "kernelspec": {
   "display_name": "Python 3 (ipykernel)",
   "language": "python",
   "name": "python3"
  },
  "language_info": {
   "codemirror_mode": {
    "name": "ipython",
    "version": 3
   },
   "file_extension": ".py",
   "mimetype": "text/x-python",
   "name": "python",
   "nbconvert_exporter": "python",
   "pygments_lexer": "ipython3",
   "version": "3.11.4"
  }
 },
 "nbformat": 4,
 "nbformat_minor": 5
}
